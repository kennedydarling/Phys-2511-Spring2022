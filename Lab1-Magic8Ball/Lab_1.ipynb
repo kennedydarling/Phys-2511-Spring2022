{
 "cells": [
  {
   "cell_type": "code",
   "execution_count": null,
   "id": "e6fab1cd-6c03-41a2-b125-87597c7d49bf",
   "metadata": {},
   "outputs": [],
   "source": [
    "import random as rn \n",
    "import time as tm \n",
    "response=input(\"Hi, ask me a yes or no question!\") \n",
    "print(\"You said... \" + response) \n",
    "print(\"Hmm...\") \n",
    "tm.sleep(4)\n",
    "print(\"Sorry I fell asleep...\") \n",
    "tm.sleep(1)\n",
    "if rn.randint(0,1):\n",
    "    print(\"Yes\")\n",
    "else :\n",
    "    print(\"No\")"
   ]
  }
 ],
 "metadata": {
  "kernelspec": {
   "display_name": "Python 3 (ipykernel)",
   "language": "python",
   "name": "python3"
  },
  "language_info": {
   "codemirror_mode": {
    "name": "ipython",
    "version": 3
   },
   "file_extension": ".py",
   "mimetype": "text/x-python",
   "name": "python",
   "nbconvert_exporter": "python",
   "pygments_lexer": "ipython3",
   "version": "3.9.7"
  }
 },
 "nbformat": 4,
 "nbformat_minor": 5
}
