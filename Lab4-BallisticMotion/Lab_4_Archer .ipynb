{
 "cells": [
  {
   "cell_type": "code",
   "execution_count": 25,
   "id": "4e3db210",
   "metadata": {},
   "outputs": [],
   "source": [
    "import random as rn \n",
    "\n",
    "import numpy as np \n",
    "\n",
    "import math as ma \n",
    "\n",
    "import matplotlib as mpl\n",
    "\n",
    "import matplotlib.pyplot as plt"
   ]
  },
  {
   "cell_type": "code",
   "execution_count": 80,
   "id": "f187819f",
   "metadata": {},
   "outputs": [
    {
     "name": "stdout",
     "output_type": "stream",
     "text": [
      "Starting velocity? 10\n",
      "Starting angle? 45\n",
      "Time step? .1\n",
      "Better luck next time!\n",
      "Final position:  11.313708498984765\n",
      "You missed by:  4.313708498984765\n",
      "[0.7071067811865476, 1.4142135623730951, 2.121320343559643, 2.8284271247461903, 3.5355339059327378, 4.242640687119286, 4.949747468305834, 5.6568542494923815, 6.363961030678929, 7.071067811865477, 7.778174593052025, 8.485281374238573, 9.192388155425121, 9.899494936611669, 10.606601717798217, 11.313708498984765]\n",
      "[0.7071067811865475, 1.316213562373095, 1.8273203435596423, 2.2404271247461898, 2.5555339059327373, 2.7726406871192846, 2.891747468305832, 2.9128542494923795, 2.8359610306789267, 2.661067811865474, 2.3881745930520215, 2.0172813742385687, 1.548388155425116, 0.9814949366116632, 0.31660171779821034, -0.4462915010152425]\n"
     ]
    }
   ],
   "source": [
    "#without drag\n",
    "\n",
    "v_o = float(input('Starting velocity? '))\n",
    "\n",
    "theta = float(input('Starting angle? '))\n",
    "\n",
    "dt = float(input('Time step? '))\n",
    "\n",
    "x = 0.0\n",
    "y = 0.0\n",
    "vx = v_o*ma.cos(ma.radians(theta))\n",
    "vy = v_o*ma.sin(ma.radians(theta))\n",
    "ax = 0.0\n",
    "ay = -9.8\n",
    "\n",
    "q = 1\n",
    "\n",
    "x_positions = []\n",
    "y_positions = []\n",
    "\n",
    "while q == 1: \n",
    "    while y >= 0: \n",
    "        x = vx*dt + x\n",
    "        x_positions.append(x)\n",
    "        vx = ax*dt + vx\n",
    "        y = vy*dt + y\n",
    "        y_positions.append(y)\n",
    "        vy = ay*dt + vy\n",
    "    if 7.5 > x > 6.5: \n",
    "        print('Hit!')\n",
    "        print('Final position: ', x)\n",
    "    else:\n",
    "        print('Better luck next time!')\n",
    "        print('Final position: ', x)\n",
    "        print('You missed by: ', abs(7 - x))\n",
    "    q = 0\n",
    "        \n",
    "    \n",
    "print(x_positions)\n",
    "print(y_positions)\n"
   ]
  },
  {
   "cell_type": "code",
   "execution_count": 82,
   "id": "4474d654",
   "metadata": {},
   "outputs": [
    {
     "name": "stdout",
     "output_type": "stream",
     "text": [
      "Starting velocity? 10\n",
      "Starting angle? 45\n",
      "Time step? .1\n",
      "7.0710678118654755\n",
      "7.071067811865475\n",
      "Better luck next time!\n",
      "Final position:  11.30628709415317\n",
      "You missed by:  4.30628709415317\n",
      "[0.7071067811865476, 1.4142135623730951, 2.121249632881524, 2.828214999782902, 3.5351096701475897, 4.241933651045241, 4.948686949544803, 5.655369572714515, 6.36198152762191, 7.068522821333814, 7.774993460916347, 8.481393453434922, 9.187722805954245, 9.893981525538315, 10.600169619250428, 11.30628709415317]\n",
      "[0.7071067811865475, 1.316213562373095, 1.8272594328815237, 2.2402541988029014, 2.5552076652476874, 2.7721296363458285, 2.8910299152468597, 2.9119183041200007, 2.8348046041542547, 2.659698615558505, 2.386610137561615, 2.0155489684125247, 1.5465249053803494, 0.9795477447544771, 0.3146272818446675, -0.4482266890188512]\n"
     ]
    }
   ],
   "source": [
    "#with drag\n",
    "\n",
    "v_o = float(input('Starting velocity? '))\n",
    "\n",
    "theta = float(input('Starting angle? '))\n",
    "\n",
    "dt = float(input('Time step? '))\n",
    "\n",
    "g = -9.8\n",
    "\n",
    "x2 = 0.0\n",
    "y2 = 0.0\n",
    "vx = v_o*ma.cos(ma.radians(theta))\n",
    "vy = v_o*ma.sin(ma.radians(theta))\n",
    "ax = 0.0\n",
    "ay = g\n",
    "\n",
    "print(vx)\n",
    "print(vy)\n",
    "\n",
    "b = 0.001\n",
    "\n",
    "x2_positions = []\n",
    "y2_positions = []\n",
    "\n",
    "q = 1\n",
    "\n",
    "while q == 1: \n",
    "    while y2 >= 0: \n",
    "        x2 = vx*dt + x2\n",
    "        x2_positions.append(x2)\n",
    "        vx = ax*dt + vx\n",
    "        ax = 0 - b*vx\n",
    "        y2 = vy*dt + y2\n",
    "        y2_positions.append(y2)\n",
    "        vy = ay*dt + vy\n",
    "        ay = g - (b*vy)      \n",
    "    if 7.5 > x > 6.5: \n",
    "        print('Hit!')\n",
    "        print('Final position: ', x2)\n",
    "    else:\n",
    "        print('Better luck next time!')\n",
    "        print('Final position: ', x2)\n",
    "        print('You missed by: ', abs(7 - x2))\n",
    "    q = 0\n",
    "        \n",
    "    \n",
    "print(x2_positions)\n",
    "print(y2_positions)\n"
   ]
  },
  {
   "cell_type": "code",
   "execution_count": 83,
   "id": "8de7a768",
   "metadata": {},
   "outputs": [
    {
     "name": "stdout",
     "output_type": "stream",
     "text": [
      "0.007421404831594813\n"
     ]
    }
   ],
   "source": [
    "#difference between analytical and simulated \n",
    "\n",
    "difference = x - x2\n",
    "\n",
    "print(difference)\n"
   ]
  },
  {
   "cell_type": "code",
   "execution_count": 81,
   "id": "4ba90c00",
   "metadata": {
    "scrolled": true
   },
   "outputs": [
    {
     "data": {
      "image/png": "[encoded data removed]",
      "text/plain": [
       "<Figure size 432x288 with 1 Axes>"
      ]
     },
     "metadata": {
      "needs_background": "light"
     },
     "output_type": "display_data"
    }
   ],
   "source": [
    "plt.scatter(x_positions, y_positions)\n",
    "plt.show()"
   ]
  },
  {
   "cell_type": "code",
   "execution_count": 79,
   "id": "a6d6a690",
   "metadata": {},
   "outputs": [
    {
     "data": {
      "image/png": "[encoded data removed]",
      "text/plain": [
       "<Figure size 432x288 with 1 Axes>"
      ]
     },
     "metadata": {
      "needs_background": "light"
     },
     "output_type": "display_data"
    }
   ],
   "source": [
    "plt.scatter(x2_positions, y2_positions)\n",
    "plt.show() \n"
   ]
  },
  {
   "cell_type": "code",
   "execution_count": null,
   "id": "c3a4200a",
   "metadata": {},
   "outputs": [],
   "source": []
  }
 ],
 "metadata": {
  "kernelspec": {
   "display_name": "Python 3 (ipykernel)",
   "language": "python",
   "name": "python3"
  },
  "language_info": {
   "codemirror_mode": {
    "name": "ipython",
    "version": 3
   },
   "file_extension": ".py",
   "mimetype": "text/x-python",
   "name": "python",
   "nbconvert_exporter": "python",
   "pygments_lexer": "ipython3",
   "version": "3.9.7"
  }
 },
 "nbformat": 4,
 "nbformat_minor": 5
}
